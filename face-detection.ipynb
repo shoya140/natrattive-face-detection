{
 "metadata": {
  "name": "",
  "signature": "sha256:86c6320da63c9e570fb95c52312d289019cb2267ab8c4c499a32098072283329"
 },
 "nbformat": 3,
 "nbformat_minor": 0,
 "worksheets": [
  {
   "cells": [
    {
     "cell_type": "code",
     "collapsed": false,
     "input": [
      "import cv2\n",
      "import os\n",
      "import glob\n",
      "import multiprocessing as mp"
     ],
     "language": "python",
     "metadata": {},
     "outputs": [],
     "prompt_number": 1
    },
    {
     "cell_type": "code",
     "collapsed": false,
     "input": [
      "def face_detect(path):\n",
      "    image = cv2.imread(path)\n",
      "    image_gray = cv2.cvtColor(image, cv2.cv.CV_BGR2GRAY)\n",
      "\n",
      "    cascade_path = \"/usr/local/opt/opencv/share/OpenCV/haarcascades/haarcascade_frontalface_alt.xml\"\n",
      "    cascade = cv2.CascadeClassifier(cascade_path)\n",
      "    facerect = cascade.detectMultiScale(\n",
      "        image_gray,\n",
      "        scaleFactor=1.1,\n",
      "        minNeighbors=10, \n",
      "        minSize=(200, 200), \n",
      "        flags = cv2.cv.CV_HAAR_SCALE_IMAGE\n",
      "    )\n",
      "\n",
      "    if len(facerect) > 0:\n",
      "        for rect in facerect:\n",
      "            color = (255, 255, 255)\n",
      "            cv2.rectangle(image, tuple(rect[0:2]),tuple(rect[0:2]+rect[2:4]), color, thickness=2)\n",
      "            cv2.imwrite('./out/'+path[7:-4]+'.jpg', image)"
     ],
     "language": "python",
     "metadata": {},
     "outputs": [],
     "prompt_number": 2
    },
    {
     "cell_type": "code",
     "collapsed": false,
     "input": [
      "pool = mp.Pool()\n",
      "%time pool.map(face_detect, glob.glob('./pict/*.jpg'))\n",
      "pool.terminate()"
     ],
     "language": "python",
     "metadata": {},
     "outputs": [
      {
       "output_type": "stream",
       "stream": "stdout",
       "text": [
        "CPU times: user 160 \u00b5s, sys: 198 \u00b5s, total: 358 \u00b5s\n",
        "Wall time: 354 \u00b5s\n"
       ]
      }
     ],
     "prompt_number": 3
    },
    {
     "cell_type": "code",
     "collapsed": false,
     "input": [],
     "language": "python",
     "metadata": {},
     "outputs": []
    }
   ],
   "metadata": {}
  }
 ]
}